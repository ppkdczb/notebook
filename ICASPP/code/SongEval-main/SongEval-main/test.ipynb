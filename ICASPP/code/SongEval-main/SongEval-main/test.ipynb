{
 "cells": [
  {
   "cell_type": "code",
   "execution_count": 1,
   "id": "64341514",
   "metadata": {},
   "outputs": [
    {
     "name": "stderr",
     "output_type": "stream",
     "text": [
      "d:\\Anaconda\\envs\\songeval\\lib\\site-packages\\tqdm\\auto.py:21: TqdmWarning: IProgress not found. Please update jupyter and ipywidgets. See https://ipywidgets.readthedocs.io/en/stable/user_install.html\n",
      "  from .autonotebook import tqdm as notebook_tqdm\n"
     ]
    }
   ],
   "source": [
    "import glob\n",
    "import os\n",
    "import json\n",
    "import librosa\n",
    "import numpy as np\n",
    "import torch\n",
    "import argparse\n",
    "from muq import MuQ\n",
    "from hydra.utils import instantiate\n",
    "from omegaconf import OmegaConf\n",
    "from safetensors.torch import load_file\n",
    "from tqdm import tqdm"
   ]
  },
  {
   "cell_type": "code",
   "execution_count": 8,
   "id": "71f96b27",
   "metadata": {},
   "outputs": [],
   "source": [
    "class Synthesizer(object):\n",
    "\n",
    "    def __init__(self,\n",
    "                 checkpoint_path,\n",
    "                 input_path,\n",
    "                 output_dir,\n",
    "                 use_cpu: bool = False):\n",
    "    \n",
    "        self.checkpoint_path = checkpoint_path\n",
    "        self.input_path = input_path\n",
    "        self.output_dir = output_dir\n",
    "        os.makedirs(self.output_dir, exist_ok=True)\n",
    "        self.device = torch.device('cuda') if (torch.cuda.is_available() and (not use_cpu)) else torch.device('cpu')\n",
    "    \n",
    "    @torch.no_grad()\n",
    "    def setup(self):\n",
    "        \n",
    "        train_config = OmegaConf.load(os.path.join(os.path.dirname(self.checkpoint_path), '../config.yaml'))\n",
    "        print(train_config)\n",
    "        model = instantiate(train_config.generator).to(self.device).eval()\n",
    "        state_dict = load_file(self.checkpoint_path, device=\"cpu\")\n",
    "        model.load_state_dict(state_dict, strict=False)\n",
    "\n",
    "        self.model = model\n",
    "        self.muq = MuQ.from_pretrained(\"OpenMuQ/MuQ-large-msd-iter\")\n",
    "        self.muq = self.muq.to(self.device).eval()\n",
    "        self.result_dcit = {}\n",
    "        \n",
    "    @torch.no_grad()\n",
    "    def synthesis(self):\n",
    "        if os.path.isfile(self.input_path):\n",
    "            if self.input_path.endswith(('.wav', '.mp3')):\n",
    "                lines = []\n",
    "                lines.append(self.input_path)\n",
    "            else:\n",
    "                with open(self.input_path, \"r\") as f:\n",
    "                    lines = [line for line in f]\n",
    "            input_files = [{\n",
    "                \"input_path\": line.strip(), \n",
    "            } for line in lines]\n",
    "            print(f\"input filelst: {self.input_path}\")\n",
    "        elif os.path.isdir(self.input_path):\n",
    "            input_files = [{\n",
    "                \"input_path\": file,\n",
    "            }for file in glob.glob(os.path.join(self.input_path, '*')) if file.lower().endswith(('.wav', '.mp3'))]\n",
    "        else:\n",
    "            raise ValueError(f\"input_path {self.input_path} is not a file or directory\")\n",
    "        \n",
    "        \n",
    "        for input in tqdm(input_files):\n",
    "            self.handle(**input)\n",
    "        with open(os.path.join(self.output_dir, \"result.json\") , \"w\")as f:\n",
    "            json.dump(self.result_dcit, f, indent=4, ensure_ascii=False)\n",
    "        \n",
    "    @torch.no_grad()\n",
    "    def handle(self, input_path):\n",
    "        \n",
    "        fid = os.path.basename(input_path).split('.')[0]\n",
    "        if input_path.endswith('.npy'):\n",
    "            input = np.load(input_path)\n",
    "            \n",
    "            # check ssl\n",
    "            if len(input.shape) == 3 and input.shape[0] != 1:\n",
    "                print('ssl_shape error', input_path)\n",
    "                return\n",
    "            if np.isnan(input).any():\n",
    "                print('ssl nan', input_path)\n",
    "                return\n",
    "            \n",
    "            input = torch.from_numpy(input).to(self.device)\n",
    "            if len(input.shape) == 2:\n",
    "                input = input.unsqueeze(0)\n",
    "\n",
    "        if input_path.endswith(('.wav', '.mp3')):\n",
    "            wav, sr = librosa.load(input_path, sr=24000)\n",
    "            audio = torch.tensor(wav).unsqueeze(0).to(self.device)\n",
    "            output = self.muq(audio, output_hidden_states=True)\n",
    "            input = output[\"hidden_states\"][6]\n",
    "            \n",
    "        values = {} \n",
    "        scores_g = self.model(input).squeeze(0)\n",
    "        values['Coherence'] = round(scores_g[0].item(), 4)\n",
    "        values['Musicality'] = round(scores_g[1].item(), 4)\n",
    "        values['Memorability'] = round(scores_g[2].item(), 4)\n",
    "        values['Clarity'] = round(scores_g[3].item(), 4)\n",
    "        values['Naturalness'] = round(scores_g[4].item(), 4)\n",
    "        self.result_dcit[fid] = values\n",
    "        "
   ]
  },
  {
   "cell_type": "code",
   "execution_count": 12,
   "id": "51c35147",
   "metadata": {},
   "outputs": [],
   "source": [
    "ckpt_path = \"ckpt/model.safetensors\"\n",
    "input_path = './path/to/snow.mp3'  # replace with your input path\n",
    "output_dir = './path/to/output'  # replace with your output path\n",
    "assert os.path.exists(ckpt_path), f\"checkpoint {ckpt_path} not exists!\"\n",
    "assert os.path.exists(input_path), f\"input path {input_path} not exists!\"\n",
    "assert os.path.isdir(output_dir), f\"output dir {output_dir} not exists!\"\n",
    "synthesizer = Synthesizer(checkpoint_path=ckpt_path,\n",
    "                              input_path=input_path,\n",
    "                              output_dir=output_dir,\n",
    "                              use_cpu=False)\n"
   ]
  },
  {
   "cell_type": "code",
   "execution_count": 13,
   "id": "f6069346",
   "metadata": {},
   "outputs": [
    {
     "name": "stdout",
     "output_type": "stream",
     "text": [
      "{'generator': {'_target_': 'model.Generator', 'in_features': 1024, 'ffd_hidden_size': 4096, 'num_classes': 5, 'attn_layer_num': 4}}\n"
     ]
    },
    {
     "name": "stderr",
     "output_type": "stream",
     "text": [
      "d:\\Anaconda\\envs\\songeval\\lib\\site-packages\\torch\\nn\\utils\\weight_norm.py:143: FutureWarning: `torch.nn.utils.weight_norm` is deprecated in favor of `torch.nn.utils.parametrizations.weight_norm`.\n",
      "  WeightNorm.apply(module, name, dim)\n"
     ]
    }
   ],
   "source": [
    "synthesizer.setup()"
   ]
  },
  {
   "cell_type": "code",
   "execution_count": 14,
   "id": "95fc6f9d",
   "metadata": {},
   "outputs": [
    {
     "name": "stdout",
     "output_type": "stream",
     "text": [
      "input filelst: ./path/to/snow.mp3\n"
     ]
    },
    {
     "name": "stderr",
     "output_type": "stream",
     "text": [
      "100%|██████████| 1/1 [00:43<00:00, 43.22s/it]\n"
     ]
    }
   ],
   "source": [
    "# handle\n",
    "synthesizer.synthesis()"
   ]
  },
  {
   "cell_type": "code",
   "execution_count": 15,
   "id": "72b4c9ce",
   "metadata": {},
   "outputs": [
    {
     "data": {
      "text/plain": [
       "False"
      ]
     },
     "execution_count": 15,
     "metadata": {},
     "output_type": "execute_result"
    }
   ],
   "source": [
    "torch.cuda.is_available()"
   ]
  },
  {
   "cell_type": "code",
   "execution_count": 16,
   "id": "e049b432",
   "metadata": {},
   "outputs": [
    {
     "name": "stdout",
     "output_type": "stream",
     "text": [
      "2.7.0+cpu\n"
     ]
    }
   ],
   "source": [
    "print(torch.__version__)"
   ]
  }
 ],
 "metadata": {
  "kernelspec": {
   "display_name": "songeval",
   "language": "python",
   "name": "python3"
  },
  "language_info": {
   "codemirror_mode": {
    "name": "ipython",
    "version": 3
   },
   "file_extension": ".py",
   "mimetype": "text/x-python",
   "name": "python",
   "nbconvert_exporter": "python",
   "pygments_lexer": "ipython3",
   "version": "3.10.18"
  }
 },
 "nbformat": 4,
 "nbformat_minor": 5
}
